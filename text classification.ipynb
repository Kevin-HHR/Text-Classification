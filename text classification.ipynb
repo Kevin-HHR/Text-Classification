{
 "cells": [
  {
   "cell_type": "markdown",
   "id": "b18976c7f12bb312",
   "metadata": {},
   "source": [
    "# 文本理解与数据挖掘-中文文本分类"
   ]
  },
  {
   "cell_type": "markdown",
   "id": "6e3e09daabc7226e",
   "metadata": {},
   "source": [
    "### 数据集说明与数据预处理\n",
    "数据集为THUCNews数据集，有10个类别，每个分类6500条，共65000条新闻数据。\n",
    "类别包括：体育，财经，房产，家居，教育，科技，时尚，时政，游戏，娱乐。\n",
    "数据集共有三个文件：\n",
    "cnews.train.txt: 训练集(500010条)；\n",
    "cnews.val.txt: 验证集(50010条)；\n",
    "cnews.test.txt: 测试集(1000*10条)。"
   ]
  },
  {
   "cell_type": "code",
   "execution_count": 1,
   "id": "cace10f1e90a8b9f",
   "metadata": {
    "ExecuteTime": {
     "end_time": "2025-03-12T11:50:07.284014Z",
     "start_time": "2025-03-12T11:50:05.990627Z"
    }
   },
   "outputs": [],
   "source": [
    "import pandas as pd\n",
    "train_data=pd.read_csv('D:\\Python\\\\text classification\\cnews.train.txt',sep='\\t',names=['label','content'])\n",
    "test_data=pd.read_csv('D:\\Python\\\\text classification\\cnews.test.txt',sep='\\t',names=['label','content'])\n",
    "val_data=pd.read_csv('D:\\Python\\\\text classification\\cnews.val.txt',sep='\\t',names=['label','content'])"
   ]
  },
  {
   "cell_type": "code",
   "execution_count": 2,
   "id": "4de71808",
   "metadata": {},
   "outputs": [
    {
     "name": "stdout",
     "output_type": "stream",
     "text": [
      "<class 'pandas.core.frame.DataFrame'>\n",
      "RangeIndex: 50000 entries, 0 to 49999\n",
      "Data columns (total 2 columns):\n",
      " #   Column   Non-Null Count  Dtype \n",
      "---  ------   --------------  ----- \n",
      " 0   label    50000 non-null  object\n",
      " 1   content  50000 non-null  object\n",
      "dtypes: object(2)\n",
      "memory usage: 781.4+ KB\n"
     ]
    }
   ],
   "source": [
    "train_data.info()"
   ]
  },
  {
   "cell_type": "code",
   "execution_count": 3,
   "id": "de3dc81070f58e58",
   "metadata": {
    "ExecuteTime": {
     "end_time": "2025-03-12T11:50:08.896396Z",
     "start_time": "2025-03-12T11:50:08.880908Z"
    }
   },
   "outputs": [
    {
     "name": "stdout",
     "output_type": "stream",
     "text": [
      "<class 'pandas.core.frame.DataFrame'>\n",
      "RangeIndex: 10000 entries, 0 to 9999\n",
      "Data columns (total 2 columns):\n",
      " #   Column   Non-Null Count  Dtype \n",
      "---  ------   --------------  ----- \n",
      " 0   label    10000 non-null  object\n",
      " 1   content  10000 non-null  object\n",
      "dtypes: object(2)\n",
      "memory usage: 156.4+ KB\n"
     ]
    }
   ],
   "source": [
    "test_data.info()"
   ]
  },
  {
   "cell_type": "code",
   "execution_count": 4,
   "id": "6d86d93a22ee7add",
   "metadata": {
    "ExecuteTime": {
     "end_time": "2025-03-12T11:50:09.827181Z",
     "start_time": "2025-03-12T11:50:09.811736Z"
    }
   },
   "outputs": [
    {
     "name": "stdout",
     "output_type": "stream",
     "text": [
      "<class 'pandas.core.frame.DataFrame'>\n",
      "RangeIndex: 5000 entries, 0 to 4999\n",
      "Data columns (total 2 columns):\n",
      " #   Column   Non-Null Count  Dtype \n",
      "---  ------   --------------  ----- \n",
      " 0   label    5000 non-null   object\n",
      " 1   content  5000 non-null   object\n",
      "dtypes: object(2)\n",
      "memory usage: 78.2+ KB\n"
     ]
    }
   ],
   "source": [
    "val_data.info()"
   ]
  },
  {
   "cell_type": "markdown",
   "id": "1318a5332460b20e",
   "metadata": {},
   "source": [
    "### 将数据划分为\"体育\"\"财经\"\"房产\"\"家居\"\"教育\"\"科技\"六类\n",
    "训练集4000\\*6、验证集500\\*6、测试集500\\*6"
   ]
  },
  {
   "cell_type": "code",
   "execution_count": 5,
   "id": "8517a2f4d9edce9f",
   "metadata": {
    "ExecuteTime": {
     "end_time": "2025-03-12T11:50:12.544452Z",
     "start_time": "2025-03-12T11:50:12.510107Z"
    }
   },
   "outputs": [
    {
     "name": "stdout",
     "output_type": "stream",
     "text": [
      "<class 'pandas.core.frame.DataFrame'>\n",
      "RangeIndex: 24000 entries, 0 to 23999\n",
      "Data columns (total 2 columns):\n",
      " #   Column   Non-Null Count  Dtype \n",
      "---  ------   --------------  ----- \n",
      " 0   label    24000 non-null  object\n",
      " 1   content  24000 non-null  object\n",
      "dtypes: object(2)\n",
      "memory usage: 375.1+ KB\n"
     ]
    }
   ],
   "source": [
    "# target_list 需要提取的类别\n",
    "target_list = [\"体育\", \"财经\", \"房产\", \"家居\", \"教育\", \"科技\"]\n",
    "\n",
    "# 创建一个空列表来存储每个类别的前4000行\n",
    "dfs = []\n",
    "\n",
    "# 遍历目标类别列表，提取每个类别的前4000行\n",
    "for category in target_list:\n",
    "    category_df = train_data[train_data[\"label\"] == category].iloc[:4000, :]\n",
    "    dfs.append(category_df)\n",
    "\n",
    "# 使用 concat 函数将所有类别提取的数据合并为一个 DataFrame\n",
    "combined_df = pd.concat(dfs, ignore_index=True)\n",
    "combined_df.info()"
   ]
  },
  {
   "cell_type": "code",
   "execution_count": 6,
   "id": "16d195a5a7aeac05",
   "metadata": {
    "ExecuteTime": {
     "end_time": "2025-03-12T11:50:14.289269Z",
     "start_time": "2025-03-12T11:50:14.273620Z"
    }
   },
   "outputs": [
    {
     "data": {
      "text/html": [
       "<div>\n",
       "<style scoped>\n",
       "    .dataframe tbody tr th:only-of-type {\n",
       "        vertical-align: middle;\n",
       "    }\n",
       "\n",
       "    .dataframe tbody tr th {\n",
       "        vertical-align: top;\n",
       "    }\n",
       "\n",
       "    .dataframe thead th {\n",
       "        text-align: right;\n",
       "    }\n",
       "</style>\n",
       "<table border=\"1\" class=\"dataframe\">\n",
       "  <thead>\n",
       "    <tr style=\"text-align: right;\">\n",
       "      <th></th>\n",
       "      <th>label</th>\n",
       "      <th>content</th>\n",
       "    </tr>\n",
       "  </thead>\n",
       "  <tbody>\n",
       "    <tr>\n",
       "      <th>0</th>\n",
       "      <td>体育</td>\n",
       "      <td>马晓旭意外受伤让国奥警惕 无奈大雨格外青睐殷家军记者傅亚雨沈阳报道 来到沈阳，国奥队依然没有...</td>\n",
       "    </tr>\n",
       "    <tr>\n",
       "      <th>1</th>\n",
       "      <td>体育</td>\n",
       "      <td>商瑞华首战复仇心切 中国玫瑰要用美国方式攻克瑞典多曼来了，瑞典来了，商瑞华首战求3分的信心也...</td>\n",
       "    </tr>\n",
       "    <tr>\n",
       "      <th>2</th>\n",
       "      <td>体育</td>\n",
       "      <td>冠军球队迎新欢乐派对 黄旭获大奖张军赢下PK赛新浪体育讯12月27日晚，“冠军高尔夫球队迎新...</td>\n",
       "    </tr>\n",
       "    <tr>\n",
       "      <th>3</th>\n",
       "      <td>体育</td>\n",
       "      <td>辽足签约危机引注册难关 高层威逼利诱合同笑里藏刀新浪体育讯2月24日，辽足爆发了集体拒签风波...</td>\n",
       "    </tr>\n",
       "    <tr>\n",
       "      <th>4</th>\n",
       "      <td>体育</td>\n",
       "      <td>揭秘谢亚龙被带走：总局电话骗局 复制南杨轨迹体坛周报特约记者张锐北京报道  谢亚龙已经被公安...</td>\n",
       "    </tr>\n",
       "  </tbody>\n",
       "</table>\n",
       "</div>"
      ],
      "text/plain": [
       "  label                                            content\n",
       "0    体育  马晓旭意外受伤让国奥警惕 无奈大雨格外青睐殷家军记者傅亚雨沈阳报道 来到沈阳，国奥队依然没有...\n",
       "1    体育  商瑞华首战复仇心切 中国玫瑰要用美国方式攻克瑞典多曼来了，瑞典来了，商瑞华首战求3分的信心也...\n",
       "2    体育  冠军球队迎新欢乐派对 黄旭获大奖张军赢下PK赛新浪体育讯12月27日晚，“冠军高尔夫球队迎新...\n",
       "3    体育  辽足签约危机引注册难关 高层威逼利诱合同笑里藏刀新浪体育讯2月24日，辽足爆发了集体拒签风波...\n",
       "4    体育  揭秘谢亚龙被带走：总局电话骗局 复制南杨轨迹体坛周报特约记者张锐北京报道  谢亚龙已经被公安..."
      ]
     },
     "execution_count": 6,
     "metadata": {},
     "output_type": "execute_result"
    }
   ],
   "source": [
    "combined_df.head()"
   ]
  },
  {
   "cell_type": "code",
   "execution_count": 7,
   "id": "d73b1ab937078600",
   "metadata": {
    "ExecuteTime": {
     "end_time": "2025-03-12T11:50:16.839444Z",
     "start_time": "2025-03-12T11:50:16.491422Z"
    }
   },
   "outputs": [],
   "source": [
    "# 将合并后的 DataFrame 保存为 CSV 文件\n",
    "combined_df.to_csv('D:\\Python\\\\text classification\\\\train_data.csv', sep='\\t', index=False)"
   ]
  },
  {
   "cell_type": "code",
   "execution_count": null,
   "id": "e5d4ed6685dcce0e",
   "metadata": {
    "ExecuteTime": {
     "end_time": "2025-03-12T11:50:19.875572Z",
     "start_time": "2025-03-12T11:50:19.861133Z"
    }
   },
   "outputs": [
    {
     "name": "stdout",
     "output_type": "stream",
     "text": [
      "<class 'pandas.core.frame.DataFrame'>\n",
      "RangeIndex: 3000 entries, 0 to 2999\n",
      "Data columns (total 2 columns):\n",
      " #   Column   Non-Null Count  Dtype \n",
      "---  ------   --------------  ----- \n",
      " 0   label    3000 non-null   object\n",
      " 1   content  3000 non-null   object\n",
      "dtypes: object(2)\n",
      "memory usage: 47.0+ KB\n"
     ]
    }
   ],
   "source": [
    "# 创建一个空列表来存储每个类别的前500行\n",
    "dfs = []\n",
    "\n",
    "# 遍历目标类别列表，提取每个类别的前500行\n",
    "for category in target_list:\n",
    "    category_df = val_data[val_data[\"label\"] == category].iloc[:500, :]\n",
    "    dfs.append(category_df)\n",
    "\n",
    "# 使用 concat 函数将所有类别提取的数据合并为一个 DataFrame\n",
    "combined_df = pd.concat(dfs, ignore_index=True)\n",
    "combined_df.info()"
   ]
  },
  {
   "cell_type": "code",
   "execution_count": 9,
   "id": "533257b8bed344aa",
   "metadata": {
    "ExecuteTime": {
     "end_time": "2025-03-12T11:50:21.238473Z",
     "start_time": "2025-03-12T11:50:21.222803Z"
    }
   },
   "outputs": [
    {
     "data": {
      "text/html": [
       "<div>\n",
       "<style scoped>\n",
       "    .dataframe tbody tr th:only-of-type {\n",
       "        vertical-align: middle;\n",
       "    }\n",
       "\n",
       "    .dataframe tbody tr th {\n",
       "        vertical-align: top;\n",
       "    }\n",
       "\n",
       "    .dataframe thead th {\n",
       "        text-align: right;\n",
       "    }\n",
       "</style>\n",
       "<table border=\"1\" class=\"dataframe\">\n",
       "  <thead>\n",
       "    <tr style=\"text-align: right;\">\n",
       "      <th></th>\n",
       "      <th>label</th>\n",
       "      <th>content</th>\n",
       "    </tr>\n",
       "  </thead>\n",
       "  <tbody>\n",
       "    <tr>\n",
       "      <th>0</th>\n",
       "      <td>体育</td>\n",
       "      <td>黄蜂vs湖人首发：科比带伤战保罗 加索尔救赎之战 新浪体育讯北京时间4月27日，NBA季后赛...</td>\n",
       "    </tr>\n",
       "    <tr>\n",
       "      <th>1</th>\n",
       "      <td>体育</td>\n",
       "      <td>1.7秒神之一击救马刺王朝于危难 这个新秀有点牛！新浪体育讯在刚刚结束的比赛中，回到主场的马...</td>\n",
       "    </tr>\n",
       "    <tr>\n",
       "      <th>2</th>\n",
       "      <td>体育</td>\n",
       "      <td>1人灭掘金！神般杜兰特！ 他想要分的时候没人能挡新浪体育讯在NBA的世界里，真的猛男，敢于直...</td>\n",
       "    </tr>\n",
       "    <tr>\n",
       "      <th>3</th>\n",
       "      <td>体育</td>\n",
       "      <td>韩国国奥20人名单：朴周永领衔 两世界杯国脚入选新浪体育讯据韩联社首尔9月17日电 韩国国奥...</td>\n",
       "    </tr>\n",
       "    <tr>\n",
       "      <th>4</th>\n",
       "      <td>体育</td>\n",
       "      <td>天才中锋崇拜王治郅 周琦：球员最终是靠实力说话2月14日从土耳其男篮邀请赛回到北京之后，周琦...</td>\n",
       "    </tr>\n",
       "  </tbody>\n",
       "</table>\n",
       "</div>"
      ],
      "text/plain": [
       "  label                                            content\n",
       "0    体育  黄蜂vs湖人首发：科比带伤战保罗 加索尔救赎之战 新浪体育讯北京时间4月27日，NBA季后赛...\n",
       "1    体育  1.7秒神之一击救马刺王朝于危难 这个新秀有点牛！新浪体育讯在刚刚结束的比赛中，回到主场的马...\n",
       "2    体育  1人灭掘金！神般杜兰特！ 他想要分的时候没人能挡新浪体育讯在NBA的世界里，真的猛男，敢于直...\n",
       "3    体育  韩国国奥20人名单：朴周永领衔 两世界杯国脚入选新浪体育讯据韩联社首尔9月17日电 韩国国奥...\n",
       "4    体育  天才中锋崇拜王治郅 周琦：球员最终是靠实力说话2月14日从土耳其男篮邀请赛回到北京之后，周琦..."
      ]
     },
     "execution_count": 9,
     "metadata": {},
     "output_type": "execute_result"
    }
   ],
   "source": [
    "combined_df.head()"
   ]
  },
  {
   "cell_type": "code",
   "execution_count": 10,
   "id": "4d11a4a83a42f57d",
   "metadata": {
    "ExecuteTime": {
     "end_time": "2025-03-12T11:50:23.334625Z",
     "start_time": "2025-03-12T11:50:23.272132Z"
    }
   },
   "outputs": [],
   "source": [
    "# 将合并后的 DataFrame 保存为 CSV 文件\n",
    "combined_df.to_csv('D:\\Python\\\\text classification\\\\val_data.csv', sep='\\t', index=False)"
   ]
  },
  {
   "cell_type": "code",
   "execution_count": null,
   "id": "b911d5d9378fd7b4",
   "metadata": {
    "ExecuteTime": {
     "end_time": "2025-03-12T11:50:24.815652Z",
     "start_time": "2025-03-12T11:50:24.787313Z"
    }
   },
   "outputs": [
    {
     "name": "stdout",
     "output_type": "stream",
     "text": [
      "<class 'pandas.core.frame.DataFrame'>\n",
      "RangeIndex: 3000 entries, 0 to 2999\n",
      "Data columns (total 2 columns):\n",
      " #   Column   Non-Null Count  Dtype \n",
      "---  ------   --------------  ----- \n",
      " 0   label    3000 non-null   object\n",
      " 1   content  3000 non-null   object\n",
      "dtypes: object(2)\n",
      "memory usage: 47.0+ KB\n"
     ]
    }
   ],
   "source": [
    "# 创建一个空列表来存储每个类别的前500行\n",
    "dfs = []\n",
    "# 遍历目标类别列表，提取每个类别的前500行\n",
    "for category in target_list:\n",
    "    category_df = test_data[test_data[\"label\"] == category].iloc[:500, :]\n",
    "    dfs.append(category_df)\n",
    "\n",
    "# 使用 concat 函数将所有类别提取的数据合并为一个 DataFrame\n",
    "combined_df = pd.concat(dfs, ignore_index=True)\n",
    "combined_df.info()"
   ]
  },
  {
   "cell_type": "code",
   "execution_count": 12,
   "id": "815ebcc8e6d0457e",
   "metadata": {
    "ExecuteTime": {
     "end_time": "2025-03-12T11:50:36.586233Z",
     "start_time": "2025-03-12T11:50:36.568388Z"
    }
   },
   "outputs": [
    {
     "data": {
      "text/html": [
       "<div>\n",
       "<style scoped>\n",
       "    .dataframe tbody tr th:only-of-type {\n",
       "        vertical-align: middle;\n",
       "    }\n",
       "\n",
       "    .dataframe tbody tr th {\n",
       "        vertical-align: top;\n",
       "    }\n",
       "\n",
       "    .dataframe thead th {\n",
       "        text-align: right;\n",
       "    }\n",
       "</style>\n",
       "<table border=\"1\" class=\"dataframe\">\n",
       "  <thead>\n",
       "    <tr style=\"text-align: right;\">\n",
       "      <th></th>\n",
       "      <th>label</th>\n",
       "      <th>content</th>\n",
       "    </tr>\n",
       "  </thead>\n",
       "  <tbody>\n",
       "    <tr>\n",
       "      <th>0</th>\n",
       "      <td>体育</td>\n",
       "      <td>鲍勃库西奖归谁属？ NCAA最强控卫是坎巴还是弗神新浪体育讯如今，本赛季的NCAA进入到了末...</td>\n",
       "    </tr>\n",
       "    <tr>\n",
       "      <th>1</th>\n",
       "      <td>体育</td>\n",
       "      <td>麦基砍28+18+5却充满寂寞 纪录之夜他的痛阿联最懂新浪体育讯上天对每个人都是公平的，贾维...</td>\n",
       "    </tr>\n",
       "    <tr>\n",
       "      <th>2</th>\n",
       "      <td>体育</td>\n",
       "      <td>黄蜂vs湖人首发：科比冲击七连胜 火箭两旧将登场新浪体育讯北京时间3月28日，NBA常规赛洛...</td>\n",
       "    </tr>\n",
       "    <tr>\n",
       "      <th>3</th>\n",
       "      <td>体育</td>\n",
       "      <td>双面谢亚龙作秀终成做作 谁来为低劣行政能力埋单是谁任命了谢亚龙？谁放纵了谢亚龙？谁又该为谢亚...</td>\n",
       "    </tr>\n",
       "    <tr>\n",
       "      <th>4</th>\n",
       "      <td>体育</td>\n",
       "      <td>兔年首战山西换帅后有虎胆 张学文用乔丹名言励志今晚客场挑战浙江稠州银行队，是山西汾酒男篮的兔...</td>\n",
       "    </tr>\n",
       "  </tbody>\n",
       "</table>\n",
       "</div>"
      ],
      "text/plain": [
       "  label                                            content\n",
       "0    体育  鲍勃库西奖归谁属？ NCAA最强控卫是坎巴还是弗神新浪体育讯如今，本赛季的NCAA进入到了末...\n",
       "1    体育  麦基砍28+18+5却充满寂寞 纪录之夜他的痛阿联最懂新浪体育讯上天对每个人都是公平的，贾维...\n",
       "2    体育  黄蜂vs湖人首发：科比冲击七连胜 火箭两旧将登场新浪体育讯北京时间3月28日，NBA常规赛洛...\n",
       "3    体育  双面谢亚龙作秀终成做作 谁来为低劣行政能力埋单是谁任命了谢亚龙？谁放纵了谢亚龙？谁又该为谢亚...\n",
       "4    体育  兔年首战山西换帅后有虎胆 张学文用乔丹名言励志今晚客场挑战浙江稠州银行队，是山西汾酒男篮的兔..."
      ]
     },
     "execution_count": 12,
     "metadata": {},
     "output_type": "execute_result"
    }
   ],
   "source": [
    "combined_df.head()"
   ]
  },
  {
   "cell_type": "code",
   "execution_count": 13,
   "id": "fe3cd76c9daedd1e",
   "metadata": {
    "ExecuteTime": {
     "end_time": "2025-03-12T11:50:55.533601Z",
     "start_time": "2025-03-12T11:50:55.478935Z"
    }
   },
   "outputs": [],
   "source": [
    "# 将合并后的 DataFrame 保存为 CSV 文件\n",
    "combined_df.to_csv('D:\\Python\\\\text classification\\\\test_data.csv', sep='\\t', index=False)"
   ]
  },
  {
   "cell_type": "markdown",
   "id": "5da8979a39ee1427",
   "metadata": {},
   "source": [
    "### 将数据集的label转换为数字\n",
    "label_dict = {\"体育\": 0, \"财经\": 1, \"房产\": 2, \"家居\": 3, \"教育\": 4, \"科技\": 5}"
   ]
  },
  {
   "cell_type": "code",
   "execution_count": 14,
   "id": "cf91f321c509806b",
   "metadata": {
    "ExecuteTime": {
     "end_time": "2025-03-13T09:09:52.363890Z",
     "start_time": "2025-03-13T09:09:51.656227Z"
    }
   },
   "outputs": [
    {
     "name": "stdout",
     "output_type": "stream",
     "text": [
      "<class 'pandas.core.frame.DataFrame'>\n",
      "RangeIndex: 24000 entries, 0 to 23999\n",
      "Data columns (total 2 columns):\n",
      " #   Column   Non-Null Count  Dtype \n",
      "---  ------   --------------  ----- \n",
      " 0   label    24000 non-null  object\n",
      " 1   content  24000 non-null  object\n",
      "dtypes: object(2)\n",
      "memory usage: 375.1+ KB\n",
      "<class 'pandas.core.frame.DataFrame'>\n",
      "RangeIndex: 3000 entries, 0 to 2999\n",
      "Data columns (total 2 columns):\n",
      " #   Column   Non-Null Count  Dtype \n",
      "---  ------   --------------  ----- \n",
      " 0   label    3000 non-null   object\n",
      " 1   content  3000 non-null   object\n",
      "dtypes: object(2)\n",
      "memory usage: 47.0+ KB\n",
      "<class 'pandas.core.frame.DataFrame'>\n",
      "RangeIndex: 3000 entries, 0 to 2999\n",
      "Data columns (total 2 columns):\n",
      " #   Column   Non-Null Count  Dtype \n",
      "---  ------   --------------  ----- \n",
      " 0   label    3000 non-null   object\n",
      " 1   content  3000 non-null   object\n",
      "dtypes: object(2)\n",
      "memory usage: 47.0+ KB\n"
     ]
    }
   ],
   "source": [
    "import numpy as np\n",
    "import pandas as pd\n",
    "# 读取数据集\n",
    "train_data = pd.read_csv('D:\\Python\\\\text classification\\\\train_data.csv', sep='\\t')\n",
    "val_data = pd.read_csv('D:\\Python\\\\text classification\\\\val_data.csv', sep='\\t')\n",
    "test_data = pd.read_csv('D:\\Python\\\\text classification\\\\test_data.csv', sep='\\t')\n",
    "train_data.info()\n",
    "val_data.info()\n",
    "test_data.info()"
   ]
  },
  {
   "cell_type": "code",
   "execution_count": 15,
   "id": "6f48285239098150",
   "metadata": {
    "ExecuteTime": {
     "end_time": "2025-03-13T09:09:55.769820Z",
     "start_time": "2025-03-13T09:09:55.754190Z"
    }
   },
   "outputs": [
    {
     "data": {
      "text/html": [
       "<div>\n",
       "<style scoped>\n",
       "    .dataframe tbody tr th:only-of-type {\n",
       "        vertical-align: middle;\n",
       "    }\n",
       "\n",
       "    .dataframe tbody tr th {\n",
       "        vertical-align: top;\n",
       "    }\n",
       "\n",
       "    .dataframe thead th {\n",
       "        text-align: right;\n",
       "    }\n",
       "</style>\n",
       "<table border=\"1\" class=\"dataframe\">\n",
       "  <thead>\n",
       "    <tr style=\"text-align: right;\">\n",
       "      <th></th>\n",
       "      <th>label</th>\n",
       "      <th>content</th>\n",
       "    </tr>\n",
       "  </thead>\n",
       "  <tbody>\n",
       "    <tr>\n",
       "      <th>0</th>\n",
       "      <td>体育</td>\n",
       "      <td>马晓旭意外受伤让国奥警惕 无奈大雨格外青睐殷家军记者傅亚雨沈阳报道 来到沈阳，国奥队依然没有...</td>\n",
       "    </tr>\n",
       "    <tr>\n",
       "      <th>1</th>\n",
       "      <td>体育</td>\n",
       "      <td>商瑞华首战复仇心切 中国玫瑰要用美国方式攻克瑞典多曼来了，瑞典来了，商瑞华首战求3分的信心也...</td>\n",
       "    </tr>\n",
       "    <tr>\n",
       "      <th>2</th>\n",
       "      <td>体育</td>\n",
       "      <td>冠军球队迎新欢乐派对 黄旭获大奖张军赢下PK赛新浪体育讯12月27日晚，“冠军高尔夫球队迎新...</td>\n",
       "    </tr>\n",
       "    <tr>\n",
       "      <th>3</th>\n",
       "      <td>体育</td>\n",
       "      <td>辽足签约危机引注册难关 高层威逼利诱合同笑里藏刀新浪体育讯2月24日，辽足爆发了集体拒签风波...</td>\n",
       "    </tr>\n",
       "    <tr>\n",
       "      <th>4</th>\n",
       "      <td>体育</td>\n",
       "      <td>揭秘谢亚龙被带走：总局电话骗局 复制南杨轨迹体坛周报特约记者张锐北京报道  谢亚龙已经被公安...</td>\n",
       "    </tr>\n",
       "  </tbody>\n",
       "</table>\n",
       "</div>"
      ],
      "text/plain": [
       "  label                                            content\n",
       "0    体育  马晓旭意外受伤让国奥警惕 无奈大雨格外青睐殷家军记者傅亚雨沈阳报道 来到沈阳，国奥队依然没有...\n",
       "1    体育  商瑞华首战复仇心切 中国玫瑰要用美国方式攻克瑞典多曼来了，瑞典来了，商瑞华首战求3分的信心也...\n",
       "2    体育  冠军球队迎新欢乐派对 黄旭获大奖张军赢下PK赛新浪体育讯12月27日晚，“冠军高尔夫球队迎新...\n",
       "3    体育  辽足签约危机引注册难关 高层威逼利诱合同笑里藏刀新浪体育讯2月24日，辽足爆发了集体拒签风波...\n",
       "4    体育  揭秘谢亚龙被带走：总局电话骗局 复制南杨轨迹体坛周报特约记者张锐北京报道  谢亚龙已经被公安..."
      ]
     },
     "execution_count": 15,
     "metadata": {},
     "output_type": "execute_result"
    }
   ],
   "source": [
    "train_data.head()"
   ]
  },
  {
   "cell_type": "code",
   "execution_count": 16,
   "id": "2118ddfeb63d40d5",
   "metadata": {
    "ExecuteTime": {
     "end_time": "2025-03-13T09:10:17.218887Z",
     "start_time": "2025-03-13T09:10:17.204685Z"
    }
   },
   "outputs": [
    {
     "data": {
      "text/html": [
       "<div>\n",
       "<style scoped>\n",
       "    .dataframe tbody tr th:only-of-type {\n",
       "        vertical-align: middle;\n",
       "    }\n",
       "\n",
       "    .dataframe tbody tr th {\n",
       "        vertical-align: top;\n",
       "    }\n",
       "\n",
       "    .dataframe thead th {\n",
       "        text-align: right;\n",
       "    }\n",
       "</style>\n",
       "<table border=\"1\" class=\"dataframe\">\n",
       "  <thead>\n",
       "    <tr style=\"text-align: right;\">\n",
       "      <th></th>\n",
       "      <th>label</th>\n",
       "      <th>content</th>\n",
       "    </tr>\n",
       "  </thead>\n",
       "  <tbody>\n",
       "    <tr>\n",
       "      <th>0</th>\n",
       "      <td>0</td>\n",
       "      <td>马晓旭意外受伤让国奥警惕 无奈大雨格外青睐殷家军记者傅亚雨沈阳报道 来到沈阳，国奥队依然没有...</td>\n",
       "    </tr>\n",
       "    <tr>\n",
       "      <th>1</th>\n",
       "      <td>0</td>\n",
       "      <td>商瑞华首战复仇心切 中国玫瑰要用美国方式攻克瑞典多曼来了，瑞典来了，商瑞华首战求3分的信心也...</td>\n",
       "    </tr>\n",
       "    <tr>\n",
       "      <th>2</th>\n",
       "      <td>0</td>\n",
       "      <td>冠军球队迎新欢乐派对 黄旭获大奖张军赢下PK赛新浪体育讯12月27日晚，“冠军高尔夫球队迎新...</td>\n",
       "    </tr>\n",
       "    <tr>\n",
       "      <th>3</th>\n",
       "      <td>0</td>\n",
       "      <td>辽足签约危机引注册难关 高层威逼利诱合同笑里藏刀新浪体育讯2月24日，辽足爆发了集体拒签风波...</td>\n",
       "    </tr>\n",
       "    <tr>\n",
       "      <th>4</th>\n",
       "      <td>0</td>\n",
       "      <td>揭秘谢亚龙被带走：总局电话骗局 复制南杨轨迹体坛周报特约记者张锐北京报道  谢亚龙已经被公安...</td>\n",
       "    </tr>\n",
       "  </tbody>\n",
       "</table>\n",
       "</div>"
      ],
      "text/plain": [
       "   label                                            content\n",
       "0      0  马晓旭意外受伤让国奥警惕 无奈大雨格外青睐殷家军记者傅亚雨沈阳报道 来到沈阳，国奥队依然没有...\n",
       "1      0  商瑞华首战复仇心切 中国玫瑰要用美国方式攻克瑞典多曼来了，瑞典来了，商瑞华首战求3分的信心也...\n",
       "2      0  冠军球队迎新欢乐派对 黄旭获大奖张军赢下PK赛新浪体育讯12月27日晚，“冠军高尔夫球队迎新...\n",
       "3      0  辽足签约危机引注册难关 高层威逼利诱合同笑里藏刀新浪体育讯2月24日，辽足爆发了集体拒签风波...\n",
       "4      0  揭秘谢亚龙被带走：总局电话骗局 复制南杨轨迹体坛周报特约记者张锐北京报道  谢亚龙已经被公安..."
      ]
     },
     "execution_count": 16,
     "metadata": {},
     "output_type": "execute_result"
    }
   ],
   "source": [
    "# 将数据集的label转换为数字\n",
    "label_dict = {\"体育\": 0, \"财经\": 1, \"房产\": 2, \"家居\": 3, \"教育\": 4, \"科技\": 5}\n",
    "train_data[\"label\"] = train_data[\"label\"].map(label_dict)\n",
    "val_data[\"label\"] = val_data[\"label\"].map(label_dict)\n",
    "test_data[\"label\"] = test_data[\"label\"].map(label_dict)\n",
    "train_data.head()"
   ]
  },
  {
   "cell_type": "code",
   "execution_count": 17,
   "id": "d90bdc1de5dfe062",
   "metadata": {
    "ExecuteTime": {
     "end_time": "2025-03-13T09:12:18.062036Z",
     "start_time": "2025-03-13T09:12:17.628675Z"
    }
   },
   "outputs": [],
   "source": [
    "# 将转换结果保存为新的CSV文件\n",
    "train_data.to_csv('D:\\Python\\\\text classification\\\\train_data_v1.csv', sep='\\t', index=False)\n",
    "val_data.to_csv('D:\\Python\\\\text classification\\\\val_data_v1.csv', sep='\\t', index=False)\n",
    "test_data.to_csv('D:\\Python\\\\text classification\\\\test_data_v1.csv', sep='\\t', index=False)"
   ]
  },
  {
   "cell_type": "markdown",
   "id": "7ca9e088ecaebf03",
   "metadata": {},
   "source": [
    "### 分词、构建TF-IDF模型、向量化、模型训练、结果输出\n",
    "运用jieba分词，去除停用词，构建TF-IDF模型，向量化训练集、验证集和测试集，输出特征向量的形状，打印标签的形状，输出标签前五项。\n",
    "调用sklearn库，构建逻辑回归(分类)模型，训练模型，输出模型的准确率（采用宏平均、微平均指标）。\n",
    "输出模型的混淆矩阵。\n"
   ]
  },
  {
   "cell_type": "code",
   "execution_count": 18,
   "id": "b17f2a8faba8854",
   "metadata": {
    "ExecuteTime": {
     "end_time": "2025-03-15T06:32:24.892727Z",
     "start_time": "2025-03-15T06:31:04.582044Z"
    }
   },
   "outputs": [
    {
     "name": "stderr",
     "output_type": "stream",
     "text": [
      "Building prefix dict from the default dictionary ...\n",
      "Loading model from cache C:\\Users\\admin\\AppData\\Local\\Temp\\jieba.cache\n",
      "Loading model cost 1.221 seconds.\n",
      "Prefix dict has been built successfully.\n"
     ]
    },
    {
     "data": {
      "text/html": [
       "<div>\n",
       "<style scoped>\n",
       "    .dataframe tbody tr th:only-of-type {\n",
       "        vertical-align: middle;\n",
       "    }\n",
       "\n",
       "    .dataframe tbody tr th {\n",
       "        vertical-align: top;\n",
       "    }\n",
       "\n",
       "    .dataframe thead th {\n",
       "        text-align: right;\n",
       "    }\n",
       "</style>\n",
       "<table border=\"1\" class=\"dataframe\">\n",
       "  <thead>\n",
       "    <tr style=\"text-align: right;\">\n",
       "      <th></th>\n",
       "      <th>label</th>\n",
       "      <th>content</th>\n",
       "    </tr>\n",
       "  </thead>\n",
       "  <tbody>\n",
       "    <tr>\n",
       "      <th>0</th>\n",
       "      <td>0</td>\n",
       "      <td>马晓旭 意外 受伤 国奥 警惕   无奈 大雨 青睐 殷家 军 记者 傅亚雨 沈阳 报道  ...</td>\n",
       "    </tr>\n",
       "    <tr>\n",
       "      <th>1</th>\n",
       "      <td>0</td>\n",
       "      <td>商瑞华 首战 复仇 心切   中国 玫瑰 美国 方式 攻克 瑞典 多曼来 瑞典 商瑞华 首战...</td>\n",
       "    </tr>\n",
       "    <tr>\n",
       "      <th>2</th>\n",
       "      <td>0</td>\n",
       "      <td>冠军 球队 迎新 欢乐 派对   黄旭获 大奖 张军 赢 下 PK 赛 新浪 体育讯 12 ...</td>\n",
       "    </tr>\n",
       "    <tr>\n",
       "      <th>3</th>\n",
       "      <td>0</td>\n",
       "      <td>辽足 签约 危机 引 注册 难关   高层 威逼利诱 合同 笑里藏刀 新浪 体育讯 月 24...</td>\n",
       "    </tr>\n",
       "    <tr>\n",
       "      <th>4</th>\n",
       "      <td>0</td>\n",
       "      <td>揭秘 谢亚龙 带走 总局 电话 骗局   复制 南杨 轨迹 体坛周报 特约记者 张锐 北京 ...</td>\n",
       "    </tr>\n",
       "  </tbody>\n",
       "</table>\n",
       "</div>"
      ],
      "text/plain": [
       "   label                                            content\n",
       "0      0  马晓旭 意外 受伤 国奥 警惕   无奈 大雨 青睐 殷家 军 记者 傅亚雨 沈阳 报道  ...\n",
       "1      0  商瑞华 首战 复仇 心切   中国 玫瑰 美国 方式 攻克 瑞典 多曼来 瑞典 商瑞华 首战...\n",
       "2      0  冠军 球队 迎新 欢乐 派对   黄旭获 大奖 张军 赢 下 PK 赛 新浪 体育讯 12 ...\n",
       "3      0  辽足 签约 危机 引 注册 难关   高层 威逼利诱 合同 笑里藏刀 新浪 体育讯 月 24...\n",
       "4      0  揭秘 谢亚龙 带走 总局 电话 骗局   复制 南杨 轨迹 体坛周报 特约记者 张锐 北京 ..."
      ]
     },
     "execution_count": 18,
     "metadata": {},
     "output_type": "execute_result"
    }
   ],
   "source": [
    "# 分词并去除停用词\n",
    "import jieba\n",
    "import pandas as pd\n",
    "\n",
    "# 读取数据集\n",
    "train_data = pd.read_csv('D:\\Python\\\\text classification\\\\train_data_v1.csv', sep='\\t')\n",
    "val_data = pd.read_csv('D:\\Python\\\\text classification\\\\val_data_v1.csv', sep='\\t')\n",
    "test_data = pd.read_csv('D:\\Python\\\\text classification\\\\test_data_v1.csv', sep='\\t')\n",
    "\n",
    "# 加载停用词表\n",
    "stopwords = set()\n",
    "with open('D:\\Python\\\\text classification\\\\stopwords.txt', 'r', encoding='utf-8') as f:\n",
    "    for line in f:\n",
    "        stopwords.add(line.strip())\n",
    "        \n",
    "# 对文本进行分词并去除停用词\n",
    "def tokenize(text):\n",
    "    words = jieba.lcut(text)\n",
    "    words = [word for word in words if word not in stopwords]\n",
    "    return ' '.join(words)\n",
    "\n",
    "train_data[\"content\"] = train_data[\"content\"].apply(tokenize)\n",
    "val_data[\"content\"] = val_data[\"content\"].apply(tokenize)\n",
    "test_data[\"content\"] = test_data[\"content\"].apply(tokenize)\n",
    "train_data.head()"
   ]
  },
  {
   "cell_type": "code",
   "execution_count": 19,
   "id": "b472ae8c440abf61",
   "metadata": {
    "ExecuteTime": {
     "end_time": "2025-03-15T06:32:31.664508Z",
     "start_time": "2025-03-15T06:32:31.641548Z"
    }
   },
   "outputs": [
    {
     "data": {
      "text/html": [
       "<div>\n",
       "<style scoped>\n",
       "    .dataframe tbody tr th:only-of-type {\n",
       "        vertical-align: middle;\n",
       "    }\n",
       "\n",
       "    .dataframe tbody tr th {\n",
       "        vertical-align: top;\n",
       "    }\n",
       "\n",
       "    .dataframe thead th {\n",
       "        text-align: right;\n",
       "    }\n",
       "</style>\n",
       "<table border=\"1\" class=\"dataframe\">\n",
       "  <thead>\n",
       "    <tr style=\"text-align: right;\">\n",
       "      <th></th>\n",
       "      <th>label</th>\n",
       "      <th>content</th>\n",
       "    </tr>\n",
       "  </thead>\n",
       "  <tbody>\n",
       "    <tr>\n",
       "      <th>0</th>\n",
       "      <td>0</td>\n",
       "      <td>马晓旭 意外 受伤 国奥 警惕   无奈 大雨 青睐 殷家 军 记者 傅亚雨 沈阳 报道  ...</td>\n",
       "    </tr>\n",
       "    <tr>\n",
       "      <th>1</th>\n",
       "      <td>0</td>\n",
       "      <td>商瑞华 首战 复仇 心切   中国 玫瑰 美国 方式 攻克 瑞典 多曼来 瑞典 商瑞华 首战...</td>\n",
       "    </tr>\n",
       "    <tr>\n",
       "      <th>2</th>\n",
       "      <td>0</td>\n",
       "      <td>冠军 球队 迎新 欢乐 派对   黄旭获 大奖 张军 赢 下 PK 赛 新浪 体育讯 12 ...</td>\n",
       "    </tr>\n",
       "    <tr>\n",
       "      <th>3</th>\n",
       "      <td>0</td>\n",
       "      <td>辽足 签约 危机 引 注册 难关   高层 威逼利诱 合同 笑里藏刀 新浪 体育讯 月 24...</td>\n",
       "    </tr>\n",
       "    <tr>\n",
       "      <th>4</th>\n",
       "      <td>0</td>\n",
       "      <td>揭秘 谢亚龙 带走 总局 电话 骗局   复制 南杨 轨迹 体坛周报 特约记者 张锐 北京 ...</td>\n",
       "    </tr>\n",
       "  </tbody>\n",
       "</table>\n",
       "</div>"
      ],
      "text/plain": [
       "   label                                            content\n",
       "0      0  马晓旭 意外 受伤 国奥 警惕   无奈 大雨 青睐 殷家 军 记者 傅亚雨 沈阳 报道  ...\n",
       "1      0  商瑞华 首战 复仇 心切   中国 玫瑰 美国 方式 攻克 瑞典 多曼来 瑞典 商瑞华 首战...\n",
       "2      0  冠军 球队 迎新 欢乐 派对   黄旭获 大奖 张军 赢 下 PK 赛 新浪 体育讯 12 ...\n",
       "3      0  辽足 签约 危机 引 注册 难关   高层 威逼利诱 合同 笑里藏刀 新浪 体育讯 月 24...\n",
       "4      0  揭秘 谢亚龙 带走 总局 电话 骗局   复制 南杨 轨迹 体坛周报 特约记者 张锐 北京 ..."
      ]
     },
     "execution_count": 19,
     "metadata": {},
     "output_type": "execute_result"
    }
   ],
   "source": [
    "train_data.head()"
   ]
  },
  {
   "cell_type": "code",
   "execution_count": 20,
   "id": "698499e85056371",
   "metadata": {
    "ExecuteTime": {
     "end_time": "2025-03-15T06:32:33.386334Z",
     "start_time": "2025-03-15T06:32:33.365592Z"
    }
   },
   "outputs": [
    {
     "data": {
      "text/html": [
       "<div>\n",
       "<style scoped>\n",
       "    .dataframe tbody tr th:only-of-type {\n",
       "        vertical-align: middle;\n",
       "    }\n",
       "\n",
       "    .dataframe tbody tr th {\n",
       "        vertical-align: top;\n",
       "    }\n",
       "\n",
       "    .dataframe thead th {\n",
       "        text-align: right;\n",
       "    }\n",
       "</style>\n",
       "<table border=\"1\" class=\"dataframe\">\n",
       "  <thead>\n",
       "    <tr style=\"text-align: right;\">\n",
       "      <th></th>\n",
       "      <th>label</th>\n",
       "      <th>content</th>\n",
       "    </tr>\n",
       "  </thead>\n",
       "  <tbody>\n",
       "    <tr>\n",
       "      <th>0</th>\n",
       "      <td>0</td>\n",
       "      <td>鲍勃 库西 奖归 属   NCAA 最强 控卫 坎巴 弗神 新浪 体育讯 本赛季 NCAA ...</td>\n",
       "    </tr>\n",
       "    <tr>\n",
       "      <th>1</th>\n",
       "      <td>0</td>\n",
       "      <td>麦基 砍 28 18 却 充满 寂寞   纪录 之夜 痛 阿联 最 懂 新浪 体育讯 上天 ...</td>\n",
       "    </tr>\n",
       "    <tr>\n",
       "      <th>2</th>\n",
       "      <td>0</td>\n",
       "      <td>黄蜂 vs 湖人 首发 科比 冲击 连胜   火箭 两旧 登场 新浪 体育讯 北京 时间 月...</td>\n",
       "    </tr>\n",
       "    <tr>\n",
       "      <th>3</th>\n",
       "      <td>0</td>\n",
       "      <td>双面 谢亚龙 作秀 终成 做作   低劣 行政 能力 埋单 任命 谢亚龙 放纵 谢亚龙 谢亚...</td>\n",
       "    </tr>\n",
       "    <tr>\n",
       "      <th>4</th>\n",
       "      <td>0</td>\n",
       "      <td>兔年 首战 山西 换帅 后 虎胆   张学文 乔丹 名言 励志 今晚 客场 挑战 浙江 稠州...</td>\n",
       "    </tr>\n",
       "  </tbody>\n",
       "</table>\n",
       "</div>"
      ],
      "text/plain": [
       "   label                                            content\n",
       "0      0  鲍勃 库西 奖归 属   NCAA 最强 控卫 坎巴 弗神 新浪 体育讯 本赛季 NCAA ...\n",
       "1      0  麦基 砍 28 18 却 充满 寂寞   纪录 之夜 痛 阿联 最 懂 新浪 体育讯 上天 ...\n",
       "2      0  黄蜂 vs 湖人 首发 科比 冲击 连胜   火箭 两旧 登场 新浪 体育讯 北京 时间 月...\n",
       "3      0  双面 谢亚龙 作秀 终成 做作   低劣 行政 能力 埋单 任命 谢亚龙 放纵 谢亚龙 谢亚...\n",
       "4      0  兔年 首战 山西 换帅 后 虎胆   张学文 乔丹 名言 励志 今晚 客场 挑战 浙江 稠州..."
      ]
     },
     "execution_count": 20,
     "metadata": {},
     "output_type": "execute_result"
    }
   ],
   "source": [
    "test_data.head()"
   ]
  },
  {
   "cell_type": "code",
   "execution_count": 21,
   "id": "720db77b9b7dcfb5",
   "metadata": {
    "ExecuteTime": {
     "end_time": "2025-03-15T06:32:38.012806Z",
     "start_time": "2025-03-15T06:32:37.317348Z"
    }
   },
   "outputs": [],
   "source": [
    "# 将分词结果保存为新的CSV文件\n",
    "train_data.to_csv('D:\\Python\\\\text classification\\\\train_data_jieba.csv', sep='\\t', index=False)\n",
    "val_data.to_csv('D:\\Python\\\\text classification\\\\val_data_jieba.csv', sep='\\t', index=False)\n",
    "test_data.to_csv('D:\\Python\\\\text classification\\\\test_data_jieba.csv', sep='\\t', index=False)"
   ]
  },
  {
   "cell_type": "code",
   "execution_count": 22,
   "id": "70ddbdd767b73870",
   "metadata": {
    "ExecuteTime": {
     "end_time": "2025-03-15T06:33:10.419794Z",
     "start_time": "2025-03-15T06:33:00.586311Z"
    }
   },
   "outputs": [
    {
     "name": "stdout",
     "output_type": "stream",
     "text": [
      "训练集特征向量形状： (24000, 242682)\n",
      "验证集特征向量形状： (3000, 242682)\n",
      "测试集特征向量形状： (3000, 242682)\n"
     ]
    }
   ],
   "source": [
    "import pandas as pd\n",
    "from sklearn.feature_extraction.text import TfidfVectorizer\n",
    "\n",
    "# 合并所有content以构建词汇表\n",
    "all_content = pd.concat([train_data[\"content\"], val_data[\"content\"], test_data[\"content\"]])\n",
    "\n",
    "# 构建TF-IDF模型\n",
    "vectorizer = TfidfVectorizer()\n",
    "vectorizer.fit(all_content)\n",
    "\n",
    "# 向量化训练集、验证集和测试集\n",
    "train_features = vectorizer.transform(train_data[\"content\"])\n",
    "val_features = vectorizer.transform(val_data[\"content\"])\n",
    "test_features = vectorizer.transform(test_data[\"content\"])\n",
    "\n",
    "# 打印特征向量的形状\n",
    "print(\"训练集特征向量形状：\", train_features.shape)\n",
    "print(\"验证集特征向量形状：\", val_features.shape)\n",
    "print(\"测试集特征向量形状：\", test_features.shape)"
   ]
  },
  {
   "cell_type": "code",
   "execution_count": 23,
   "id": "d72c683cfe442da7",
   "metadata": {
    "ExecuteTime": {
     "end_time": "2025-03-15T06:33:22.737942Z",
     "start_time": "2025-03-15T06:33:22.722575Z"
    }
   },
   "outputs": [
    {
     "name": "stdout",
     "output_type": "stream",
     "text": [
      "训练集标签形状： (24000,)\n",
      "验证集标签形状： (3000,)\n",
      "测试集标签形状： (3000,)\n",
      "训练集标签前五项： 0    0\n",
      "1    0\n",
      "2    0\n",
      "3    0\n",
      "4    0\n",
      "Name: label, dtype: int64\n",
      "验证集标签前五项： 0    0\n",
      "1    0\n",
      "2    0\n",
      "3    0\n",
      "4    0\n",
      "Name: label, dtype: int64\n",
      "测试集标签前五项： 0    0\n",
      "1    0\n",
      "2    0\n",
      "3    0\n",
      "4    0\n",
      "Name: label, dtype: int64\n"
     ]
    }
   ],
   "source": [
    "# 获取标签\n",
    "train_labels = train_data[\"label\"]\n",
    "val_labels = val_data[\"label\"]\n",
    "test_labels = test_data[\"label\"]\n",
    "\n",
    "# 打印标签的形状\n",
    "print(\"训练集标签形状：\", train_labels.shape)\n",
    "print(\"验证集标签形状：\", val_labels.shape)\n",
    "print(\"测试集标签形状：\", test_labels.shape)\n",
    "\n",
    "# 输出标签前五项\n",
    "print(\"训练集标签前五项：\", train_labels[:5])\n",
    "print(\"验证集标签前五项：\", val_labels[:5])\n",
    "print(\"测试集标签前五项：\", test_labels[:5])"
   ]
  },
  {
   "cell_type": "code",
   "execution_count": 24,
   "id": "2b43529011403b2f",
   "metadata": {
    "ExecuteTime": {
     "end_time": "2025-03-15T06:33:35.044400Z",
     "start_time": "2025-03-15T06:33:32.316608Z"
    }
   },
   "outputs": [],
   "source": [
    "# 保存特征向量和标签\n",
    "import scipy.sparse as sp\n",
    "import numpy as np\n",
    "sp.save_npz('D:\\Python\\\\text classification\\\\train_features.npz', train_features)\n",
    "sp.save_npz('D:\\Python\\\\text classification\\\\val_features.npz', val_features)\n",
    "sp.save_npz('D:\\Python\\\\text classification\\\\test_features.npz', test_features)\n",
    "np.save('D:\\Python\\\\text classification\\\\train_labels.npy', train_labels)\n",
    "np.save('D:\\Python\\\\text classification\\\\val_labels.npy', val_labels)\n",
    "np.save('D:\\Python\\\\text classification\\\\test_labels.npy', test_labels)"
   ]
  },
  {
   "cell_type": "code",
   "execution_count": 25,
   "id": "3ef7803e59cfd169",
   "metadata": {
    "ExecuteTime": {
     "end_time": "2025-03-15T06:33:40.052206Z",
     "start_time": "2025-03-15T06:33:39.671040Z"
    }
   },
   "outputs": [],
   "source": [
    "# 加载特征向量和标签\n",
    "import scipy.sparse as sp\n",
    "import numpy as np\n",
    "train_features = sp.load_npz('D:\\Python\\\\text classification\\\\train_features.npz')\n",
    "val_features = sp.load_npz('D:\\Python\\\\text classification\\\\val_features.npz')\n",
    "test_features = sp.load_npz('D:\\Python\\\\text classification\\\\test_features.npz')\n",
    "train_labels = np.load('D:\\Python\\\\text classification\\\\train_labels.npy')\n",
    "val_labels = np.load('D:\\Python\\\\text classification\\\\val_labels.npy')\n",
    "test_labels = np.load('D:\\Python\\\\text classification\\\\test_labels.npy')"
   ]
  },
  {
   "cell_type": "code",
   "execution_count": null,
   "id": "c8dca2f0fba491da",
   "metadata": {
    "ExecuteTime": {
     "end_time": "2025-03-15T06:44:31.867621Z",
     "start_time": "2025-03-15T06:44:30.463760Z"
    }
   },
   "outputs": [
    {
     "name": "stdout",
     "output_type": "stream",
     "text": [
      "训练集准确率： 0.9989166666666667\n",
      "验证集准确率： 0.9183333333333333\n",
      "测试集准确率： 0.908\n"
     ]
    }
   ],
   "source": [
    "# 运用支持向量机（SVM）中的线性支持向量分类器（LinearSVC）进行分类\n",
    "from sklearn.svm import LinearSVC\n",
    "\n",
    "# 显式设置dual=True\n",
    "svm_classifier = LinearSVC(dual=True)\n",
    "svm_classifier.fit(train_features, train_labels)\n",
    "\n",
    "# 预测验证集和测试集的标签\n",
    "train_predictions = svm_classifier.predict(train_features)\n",
    "val_predictions = svm_classifier.predict(val_features)\n",
    "test_predictions = svm_classifier.predict(test_features)\n",
    "\n",
    "# 计算准确率\n",
    "train_accuracy = np.mean(train_predictions == train_labels)\n",
    "val_accuracy = np.mean(val_predictions == val_labels)\n",
    "test_accuracy = np.mean(test_predictions == test_labels)\n",
    "\n",
    "# 输出准确率\n",
    "print(\"训练集准确率：\", train_accuracy)\n",
    "print(\"验证集准确率：\", val_accuracy)\n",
    "print(\"测试集准确率：\", test_accuracy)"
   ]
  },
  {
   "cell_type": "code",
   "execution_count": 27,
   "id": "3c38d36c73e317c9",
   "metadata": {
    "ExecuteTime": {
     "end_time": "2025-03-15T06:46:11.364174Z",
     "start_time": "2025-03-15T06:46:11.075383Z"
    }
   },
   "outputs": [
    {
     "name": "stdout",
     "output_type": "stream",
     "text": [
      "宏平均精确率： 0.9245861025730261\n",
      "宏平均召回率： 0.9183333333333333\n",
      "宏平均F1分数： 0.9147044008530841\n",
      "微平均精确率： 0.9183333333333333\n",
      "微平均召回率： 0.9183333333333333\n",
      "微平均F1分数： 0.9183333333333333\n"
     ]
    },
    {
     "data": {
      "image/png": "[encoded data removed]",
      "text/plain": [
       "<Figure size 1000x800 with 2 Axes>"
      ]
     },
     "metadata": {},
     "output_type": "display_data"
    }
   ],
   "source": [
    "# 输出文本分类结果 宏平均 微平均 混淆矩阵\n",
    "from sklearn.svm import LinearSVC\n",
    "from sklearn.metrics import precision_score, recall_score, f1_score, confusion_matrix\n",
    "import numpy as np\n",
    "import seaborn as sns\n",
    "import matplotlib.pyplot as plt\n",
    "\n",
    "# 设置中文字体\n",
    "plt.rcParams['font.sans-serif'] = ['SimHei']  # 使用黑体\n",
    "plt.rcParams['axes.unicode_minus'] = False  # 解决负号显示问题\n",
    "\n",
    "# 计算宏平均\n",
    "macro_precision = precision_score(val_labels, val_predictions, average='macro')\n",
    "macro_recall = recall_score(val_labels, val_predictions, average='macro')\n",
    "macro_f1 = f1_score(val_labels, val_predictions, average='macro')\n",
    "print(\"宏平均精确率：\", macro_precision)\n",
    "print(\"宏平均召回率：\", macro_recall)\n",
    "print(\"宏平均F1分数：\", macro_f1)\n",
    "\n",
    "# 计算微平均\n",
    "micro_precision = precision_score(val_labels, val_predictions, average='micro')\n",
    "micro_recall = recall_score(val_labels, val_predictions, average='micro')\n",
    "micro_f1 = f1_score(val_labels, val_predictions, average='micro')\n",
    "print(\"微平均精确率：\", micro_precision)\n",
    "print(\"微平均召回率：\", micro_recall)\n",
    "print(\"微平均F1分数：\", micro_f1)\n",
    "\n",
    "# 计算混淆矩阵\n",
    "conf_matrix = confusion_matrix(val_labels, val_predictions)\n",
    "selected_categories = [\"体育\", \"财经\", \"房产\", \"家居\", \"教育\", \"科技\"]\n",
    "\n",
    "# 可视化混淆矩阵\n",
    "plt.figure(figsize=(10, 8))\n",
    "sns.heatmap(conf_matrix, annot=True, fmt='d', cmap='Reds', xticklabels=selected_categories, yticklabels=selected_categories)\n",
    "plt.xlabel('预测标签')\n",
    "plt.ylabel('真实标签')\n",
    "plt.title('混淆矩阵')\n",
    "plt.show()"
   ]
  },
  {
   "cell_type": "code",
   "execution_count": 28,
   "id": "ee3d6b10df9bc127",
   "metadata": {},
   "outputs": [],
   "source": [
    "# 加载特征向量和标签\n",
    "import scipy.sparse as sp\n",
    "import numpy as np\n",
    "train_features = sp.load_npz('D:\\Python\\\\text classification\\\\train_features.npz')\n",
    "val_features = sp.load_npz('D:\\Python\\\\text classification\\\\val_features.npz')\n",
    "test_features = sp.load_npz('D:\\Python\\\\text classification\\\\test_features.npz')\n",
    "train_labels = np.load('D:\\Python\\\\text classification\\\\train_labels.npy')\n",
    "val_labels = np.load('D:\\Python\\\\text classification\\\\val_labels.npy')\n",
    "test_labels = np.load('D:\\Python\\\\text classification\\\\test_labels.npy')"
   ]
  },
  {
   "cell_type": "code",
   "execution_count": null,
   "id": "def5eee48b81c65b",
   "metadata": {
    "ExecuteTime": {
     "end_time": "2025-03-15T06:59:23.244019Z",
     "start_time": "2025-03-15T06:59:22.987710Z"
    }
   },
   "outputs": [
    {
     "name": "stdout",
     "output_type": "stream",
     "text": [
      "训练集准确率： 0.9677916666666667\n",
      "验证集准确率： 0.857\n",
      "测试集准确率： 0.8436666666666667\n",
      "宏平均精确率： 0.8922738608981177\n",
      "宏平均召回率： 0.8570000000000001\n",
      "宏平均F1分数： 0.8311903996780073\n",
      "微平均精确率： 0.857\n",
      "微平均召回率： 0.857\n",
      "微平均F1分数： 0.857\n"
     ]
    },
    {
     "data": {
      "image/png": "[encoded data removed]",
      "text/plain": [
       "<Figure size 1000x800 with 2 Axes>"
      ]
     },
     "metadata": {},
     "output_type": "display_data"
    }
   ],
   "source": [
    "# 运用多项式朴素贝叶斯进行文本分类\n",
    "from sklearn.naive_bayes import MultinomialNB\n",
    "from sklearn.metrics import accuracy_score, precision_score, recall_score, f1_score, confusion_matrix\n",
    "import matplotlib.pyplot as plt\n",
    "import seaborn as sns\n",
    "\n",
    "# 设置中文字体\n",
    "plt.rcParams['font.sans-serif'] = ['SimHei']  # 使用黑体\n",
    "plt.rcParams['axes.unicode_minus'] = False  # 解决负号显示问题\n",
    "\n",
    "# 初始化多项式朴素贝叶斯分类器\n",
    "nb_classifier = MultinomialNB() # 初始化多项式朴素贝叶斯分类器\n",
    "\n",
    "# 训练分类器\n",
    "nb_classifier.fit(train_features, train_labels) # 训练分类器\n",
    "\n",
    "# 预测测试集、验证集和测试集的标签\n",
    "train_predictions = nb_classifier.predict(train_features)\n",
    "val_predictions = nb_classifier.predict(val_features)\n",
    "test_predictions = nb_classifier.predict(test_features)\n",
    "\n",
    "# 计算准确率\n",
    "train_accuracy = accuracy_score(train_labels, train_predictions)\n",
    "val_accuracy = accuracy_score(val_labels, val_predictions)\n",
    "test_accuracy = accuracy_score(test_labels, test_predictions)\n",
    "\n",
    "# 输出准确率\n",
    "print(\"训练集准确率：\", train_accuracy)\n",
    "print(\"验证集准确率：\", val_accuracy)\n",
    "print(\"测试集准确率：\", test_accuracy)\n",
    "\n",
    "# 计算宏平均\n",
    "macro_precision = precision_score(val_labels, val_predictions, average='macro')\n",
    "macro_recall = recall_score(val_labels, val_predictions, average='macro')\n",
    "macro_f1 = f1_score(val_labels, val_predictions, average='macro')\n",
    "print(\"宏平均精确率：\", macro_precision)\n",
    "print(\"宏平均召回率：\", macro_recall)\n",
    "print(\"宏平均F1分数：\", macro_f1)\n",
    "\n",
    "# 计算微平均\n",
    "micro_precision = precision_score(val_labels, val_predictions, average='micro')\n",
    "micro_recall = recall_score(val_labels, val_predictions, average='micro')\n",
    "micro_f1 = f1_score(val_labels, val_predictions, average='micro')\n",
    "print(\"微平均精确率：\", micro_precision)\n",
    "print(\"微平均召回率：\", micro_recall)\n",
    "print(\"微平均F1分数：\", micro_f1)\n",
    "\n",
    "# 计算混淆矩阵\n",
    "selected_categories = [\"体育\", \"财经\", \"房产\", \"家居\", \"教育\", \"科技\"]\n",
    "conf_matrix = confusion_matrix(val_labels, val_predictions)\n",
    "\n",
    "# 可视化混淆矩阵\n",
    "plt.figure(figsize=(10, 8))\n",
    "sns.heatmap(conf_matrix, annot=True, fmt='d', cmap='Reds', xticklabels=selected_categories, yticklabels=selected_categories)\n",
    "plt.xlabel('预测标签')\n",
    "plt.ylabel('真实标签')\n",
    "plt.title('混淆矩阵')\n",
    "plt.show()"
   ]
  }
 ],
 "metadata": {
  "kernelspec": {
   "display_name": "base",
   "language": "python",
   "name": "python3"
  },
  "language_info": {
   "codemirror_mode": {
    "name": "ipython",
    "version": 3
   },
   "file_extension": ".py",
   "mimetype": "text/x-python",
   "name": "python",
   "nbconvert_exporter": "python",
   "pygments_lexer": "ipython3",
   "version": "3.9.13"
  }
 },
 "nbformat": 4,
 "nbformat_minor": 5
}
